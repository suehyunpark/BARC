{
 "cells": [
  {
   "cell_type": "code",
   "execution_count": 3,
   "metadata": {},
   "outputs": [
    {
     "data": {
      "text/plain": [
       "False"
      ]
     },
     "execution_count": 3,
     "metadata": {},
     "output_type": "execute_result"
    }
   ],
   "source": [
    "[False, None] is False"
   ]
  },
  {
   "cell_type": "code",
   "execution_count": 1,
   "metadata": {},
   "outputs": [
    {
     "name": "stdout",
     "output_type": "stream",
     "text": [
      "Black Black Black Black Black Black Black Black Black Black Black Black\n",
      "Black Black Black Black Black Black Black Black Black Black Black Black\n",
      "Black Gray Gray Gray Gray Black Black Black Black Black Black Black\n",
      "Black Gray Black Black Gray Black Black Black Black Black Black Black\n",
      "Black Gray Black Black Gray Black Black Gray Gray Gray Gray Black\n",
      "Black Gray Gray Gray Gray Black Black Gray Black Gray Gray Black\n",
      "Black Black Black Black Black Black Black Gray Black Black Gray Black\n",
      "Black Black Black Black Black Black Black Gray Gray Gray Gray Black\n",
      "Black Black Gray Gray Gray Gray Black Black Black Black Black Black\n",
      "Black Black Gray Gray Gray Gray Black Black Black Black Black Black\n",
      "Black Black Gray Black Gray Gray Black Black Black Black Black Black\n",
      "Black Black Gray Gray Gray Gray Black Black Black Black Black Black\n"
     ]
    }
   ],
   "source": [
    "def gray_to_red_propagation(input_grid_str):\n",
    "    \"\"\"\n",
    "    Apply the hypothesized transformation rule to the input grid.\n",
    "\n",
    "    Args:\n",
    "    input_grid_str (str): Input grid as a string (cells separated by spaces, rows by newlines)\n",
    "\n",
    "    Returns:\n",
    "    str: Predicted output grid as a string\n",
    "    \"\"\"\n",
    "    # Split input grid into rows and cells\n",
    "    input_grid = [row.split() for row in input_grid_str.split('\\n')]\n",
    "\n",
    "    # Get grid dimensions\n",
    "    num_rows, num_cols = len(input_grid), len(input_grid[0])\n",
    "\n",
    "    # Create a copy to store the output grid\n",
    "    output_grid = [row[:] for row in input_grid]\n",
    "\n",
    "    # Define directional offsets for neighbor examination\n",
    "    offsets = [(-1, 0), (1, 0), (0, -1), (0, 1)]  # up, down, left, right\n",
    "\n",
    "    # Iterate over each cell in the input grid\n",
    "    for r in range(num_rows):\n",
    "        for c in range(num_cols):\n",
    "            if input_grid[r][c] == 'Gray':\n",
    "                # Assume the cell will be converted to Red initially\n",
    "                convert_to_red = True\n",
    "\n",
    "                # Check neighbors\n",
    "                for dr, dc in offsets:\n",
    "                    nr, nc = r + dr, c + dc\n",
    "                    # If out of bounds or a neighbor is not Black, don't convert to Red\n",
    "                    if (nr < 0 or nr >= num_rows or nc < 0 or nc >= num_cols or\n",
    "                            input_grid[nr][nc] != 'Black'):\n",
    "                        convert_to_red = False\n",
    "                        break\n",
    "\n",
    "                # Apply the transformation\n",
    "                if convert_to_red:\n",
    "                    output_grid[r][c] = 'Red'\n",
    "\n",
    "    # Join the output grid back into a string\n",
    "    output_grid_str = '\\n'.join([' '.join(row) for row in output_grid])\n",
    "\n",
    "    return output_grid_str\n",
    "\n",
    "# Example usage\n",
    "input_grid_str = \"\"\"Black Black Black Black Black Black Black Black Black Black Black Black\n",
    "Black Black Black Black Black Black Black Black Black Black Black Black\n",
    "Black Gray Gray Gray Gray Black Black Black Black Black Black Black\n",
    "Black Gray Black Black Gray Black Black Black Black Black Black Black\n",
    "Black Gray Black Black Gray Black Black Gray Gray Gray Gray Black\n",
    "Black Gray Gray Gray Gray Black Black Gray Black Gray Gray Black\n",
    "Black Black Black Black Black Black Black Gray Black Black Gray Black\n",
    "Black Black Black Black Black Black Black Gray Gray Gray Gray Black\n",
    "Black Black Gray Gray Gray Gray Black Black Black Black Black Black\n",
    "Black Black Gray Gray Gray Gray Black Black Black Black Black Black\n",
    "Black Black Gray Black Gray Gray Black Black Black Black Black Black\n",
    "Black Black Gray Gray Gray Gray Black Black Black Black Black Black\"\"\"\n",
    "\n",
    "predicted_output_grid = gray_to_red_propagation(input_grid_str)\n",
    "print(predicted_output_grid)\n"
   ]
  }
 ],
 "metadata": {
  "kernelspec": {
   "display_name": "barc",
   "language": "python",
   "name": "python3"
  },
  "language_info": {
   "codemirror_mode": {
    "name": "ipython",
    "version": 3
   },
   "file_extension": ".py",
   "mimetype": "text/x-python",
   "name": "python",
   "nbconvert_exporter": "python",
   "pygments_lexer": "ipython3",
   "version": "3.10.4"
  }
 },
 "nbformat": 4,
 "nbformat_minor": 2
}
